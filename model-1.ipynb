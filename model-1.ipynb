{
 "cells": [
  {
   "cell_type": "code",
   "execution_count": 3,
   "id": "eab4ac38",
   "metadata": {},
   "outputs": [
    {
     "name": "stdout",
     "output_type": "stream",
     "text": [
      "[PhysicalDevice(name='/physical_device:GPU:0', device_type='GPU')]\n"
     ]
    }
   ],
   "source": [
    "import pandas as pd\n",
    "import numpy as np\n",
    "import seaborn as sns\n",
    "import matplotlib.pyplot as plt\n",
    "%matplotlib inline\n",
    "from sklearn.model_selection import train_test_split\n",
    "from tensorflow.keras.models import Model\n",
    "from tensorflow.keras.layers import Input,Dense,LSTM,GlobalMaxPooling1D,Embedding\n",
    "from tensorflow.keras.preprocessing.text import Tokenizer\n",
    "from tensorflow.keras.preprocessing.sequence import pad_sequences\n",
    "from sklearn.preprocessing import LabelEncoder\n",
    "from sklearn.metrics import classification_report,confusion_matrix\n",
    "import re,string,nltk\n",
    "from nltk.corpus import stopwords\n",
    "from nltk.stem import PorterStemmer,WordNetLemmatizer\n",
    "import tensorflow as tf\n",
    "print(tf.config.list_physical_devices('GPU'))"
   ]
  },
  {
   "cell_type": "code",
   "execution_count": 4,
   "id": "83139d42",
   "metadata": {},
   "outputs": [],
   "source": [
    "df2=pd.read_csv('data/Twitter_Data.csv')\n",
    "df1=pd.read_csv('data/Reddit_Data.csv')"
   ]
  },
  {
   "cell_type": "code",
   "execution_count": 3,
   "id": "34d916d7",
   "metadata": {},
   "outputs": [
    {
     "data": {
      "text/plain": [
       "array([ 1, -1,  0], dtype=int64)"
      ]
     },
     "execution_count": 3,
     "metadata": {},
     "output_type": "execute_result"
    }
   ],
   "source": [
    "df1['category'].unique()"
   ]
  },
  {
   "cell_type": "code",
   "execution_count": 4,
   "id": "fe3348a0",
   "metadata": {},
   "outputs": [
    {
     "data": {
      "text/plain": [
       "array([-1.,  0.,  1., nan])"
      ]
     },
     "execution_count": 4,
     "metadata": {},
     "output_type": "execute_result"
    }
   ],
   "source": [
    "df2['category'].unique()"
   ]
  },
  {
   "cell_type": "code",
   "execution_count": 5,
   "id": "e5405e5c",
   "metadata": {},
   "outputs": [],
   "source": [
    "df2.columns=['messages','labels']\n",
    "df1.columns=['messages','labels']"
   ]
  },
  {
   "cell_type": "code",
   "execution_count": 6,
   "id": "93804bcf",
   "metadata": {},
   "outputs": [
    {
     "data": {
      "text/html": [
       "<div>\n",
       "<style scoped>\n",
       "    .dataframe tbody tr th:only-of-type {\n",
       "        vertical-align: middle;\n",
       "    }\n",
       "\n",
       "    .dataframe tbody tr th {\n",
       "        vertical-align: top;\n",
       "    }\n",
       "\n",
       "    .dataframe thead th {\n",
       "        text-align: right;\n",
       "    }\n",
       "</style>\n",
       "<table border=\"1\" class=\"dataframe\">\n",
       "  <thead>\n",
       "    <tr style=\"text-align: right;\">\n",
       "      <th></th>\n",
       "      <th>messages</th>\n",
       "      <th>labels</th>\n",
       "    </tr>\n",
       "  </thead>\n",
       "  <tbody>\n",
       "    <tr>\n",
       "      <th>0</th>\n",
       "      <td>family mormon have never tried explain them t...</td>\n",
       "      <td>1</td>\n",
       "    </tr>\n",
       "    <tr>\n",
       "      <th>1</th>\n",
       "      <td>buddhism has very much lot compatible with chr...</td>\n",
       "      <td>1</td>\n",
       "    </tr>\n",
       "    <tr>\n",
       "      <th>2</th>\n",
       "      <td>seriously don say thing first all they won get...</td>\n",
       "      <td>-1</td>\n",
       "    </tr>\n",
       "    <tr>\n",
       "      <th>3</th>\n",
       "      <td>what you have learned yours and only yours wha...</td>\n",
       "      <td>0</td>\n",
       "    </tr>\n",
       "    <tr>\n",
       "      <th>4</th>\n",
       "      <td>for your own benefit you may want read living ...</td>\n",
       "      <td>1</td>\n",
       "    </tr>\n",
       "  </tbody>\n",
       "</table>\n",
       "</div>"
      ],
      "text/plain": [
       "                                            messages  labels\n",
       "0   family mormon have never tried explain them t...       1\n",
       "1  buddhism has very much lot compatible with chr...       1\n",
       "2  seriously don say thing first all they won get...      -1\n",
       "3  what you have learned yours and only yours wha...       0\n",
       "4  for your own benefit you may want read living ...       1"
      ]
     },
     "execution_count": 6,
     "metadata": {},
     "output_type": "execute_result"
    }
   ],
   "source": [
    "df1.head()"
   ]
  },
  {
   "cell_type": "markdown",
   "id": "7fa4b173",
   "metadata": {},
   "source": [
    "df1['labels']=df1['labels'].map({-1:0,0:1,1:2})"
   ]
  },
  {
   "cell_type": "code",
   "execution_count": 7,
   "id": "f8256c26",
   "metadata": {},
   "outputs": [],
   "source": [
    "df=pd.concat([df1,df2],ignore_index=True)"
   ]
  },
  {
   "cell_type": "code",
   "execution_count": 8,
   "id": "ecf5acb9",
   "metadata": {},
   "outputs": [],
   "source": [
    "df['labels']=df['labels'].map({-1:0,0:1.0,1:2.0})"
   ]
  },
  {
   "cell_type": "code",
   "execution_count": 9,
   "id": "1fb96286",
   "metadata": {},
   "outputs": [
    {
     "data": {
      "text/plain": [
       "' family mormon have never tried explain them they still stare puzzled from time time like some kind strange creature nonetheless they have come admire for the patience calmness equanimity acceptance and compassion have developed all the things buddhism teaches '"
      ]
     },
     "execution_count": 9,
     "metadata": {},
     "output_type": "execute_result"
    }
   ],
   "source": [
    "df['messages'].iloc[0] #iloc is used to select a row"
   ]
  },
  {
   "cell_type": "code",
   "execution_count": 10,
   "id": "ac53037b",
   "metadata": {},
   "outputs": [
    {
     "data": {
      "text/plain": [
       "' want move gujarat and live there for few months any city that you can recommend '"
      ]
     },
     "execution_count": 10,
     "metadata": {},
     "output_type": "execute_result"
    }
   ],
   "source": [
    "df['messages'].iloc[100]"
   ]
  },
  {
   "cell_type": "code",
   "execution_count": 11,
   "id": "aaa1e116",
   "metadata": {},
   "outputs": [
    {
     "data": {
      "text/html": [
       "<div>\n",
       "<style scoped>\n",
       "    .dataframe tbody tr th:only-of-type {\n",
       "        vertical-align: middle;\n",
       "    }\n",
       "\n",
       "    .dataframe tbody tr th {\n",
       "        vertical-align: top;\n",
       "    }\n",
       "\n",
       "    .dataframe thead th {\n",
       "        text-align: right;\n",
       "    }\n",
       "</style>\n",
       "<table border=\"1\" class=\"dataframe\">\n",
       "  <thead>\n",
       "    <tr style=\"text-align: right;\">\n",
       "      <th></th>\n",
       "      <th>messages</th>\n",
       "      <th>labels</th>\n",
       "    </tr>\n",
       "  </thead>\n",
       "  <tbody>\n",
       "    <tr>\n",
       "      <th>0</th>\n",
       "      <td>family mormon have never tried explain them t...</td>\n",
       "      <td>2.0</td>\n",
       "    </tr>\n",
       "    <tr>\n",
       "      <th>1</th>\n",
       "      <td>buddhism has very much lot compatible with chr...</td>\n",
       "      <td>2.0</td>\n",
       "    </tr>\n",
       "    <tr>\n",
       "      <th>2</th>\n",
       "      <td>seriously don say thing first all they won get...</td>\n",
       "      <td>0.0</td>\n",
       "    </tr>\n",
       "    <tr>\n",
       "      <th>3</th>\n",
       "      <td>what you have learned yours and only yours wha...</td>\n",
       "      <td>1.0</td>\n",
       "    </tr>\n",
       "    <tr>\n",
       "      <th>4</th>\n",
       "      <td>for your own benefit you may want read living ...</td>\n",
       "      <td>2.0</td>\n",
       "    </tr>\n",
       "  </tbody>\n",
       "</table>\n",
       "</div>"
      ],
      "text/plain": [
       "                                            messages  labels\n",
       "0   family mormon have never tried explain them t...     2.0\n",
       "1  buddhism has very much lot compatible with chr...     2.0\n",
       "2  seriously don say thing first all they won get...     0.0\n",
       "3  what you have learned yours and only yours wha...     1.0\n",
       "4  for your own benefit you may want read living ...     2.0"
      ]
     },
     "execution_count": 11,
     "metadata": {},
     "output_type": "execute_result"
    }
   ],
   "source": [
    "df.head()"
   ]
  },
  {
   "cell_type": "code",
   "execution_count": 12,
   "id": "4b0b62fa",
   "metadata": {},
   "outputs": [
    {
     "data": {
      "text/html": [
       "<div>\n",
       "<style scoped>\n",
       "    .dataframe tbody tr th:only-of-type {\n",
       "        vertical-align: middle;\n",
       "    }\n",
       "\n",
       "    .dataframe tbody tr th {\n",
       "        vertical-align: top;\n",
       "    }\n",
       "\n",
       "    .dataframe thead th {\n",
       "        text-align: right;\n",
       "    }\n",
       "</style>\n",
       "<table border=\"1\" class=\"dataframe\">\n",
       "  <thead>\n",
       "    <tr style=\"text-align: right;\">\n",
       "      <th></th>\n",
       "      <th>messages</th>\n",
       "      <th>labels</th>\n",
       "    </tr>\n",
       "  </thead>\n",
       "  <tbody>\n",
       "    <tr>\n",
       "      <th>200224</th>\n",
       "      <td>why these 456 crores paid neerav modi not reco...</td>\n",
       "      <td>0.0</td>\n",
       "    </tr>\n",
       "    <tr>\n",
       "      <th>200225</th>\n",
       "      <td>dear rss terrorist payal gawar what about modi...</td>\n",
       "      <td>0.0</td>\n",
       "    </tr>\n",
       "    <tr>\n",
       "      <th>200226</th>\n",
       "      <td>did you cover her interaction forum where she ...</td>\n",
       "      <td>1.0</td>\n",
       "    </tr>\n",
       "    <tr>\n",
       "      <th>200227</th>\n",
       "      <td>there big project came into india modi dream p...</td>\n",
       "      <td>1.0</td>\n",
       "    </tr>\n",
       "    <tr>\n",
       "      <th>200228</th>\n",
       "      <td>have you ever listen about like gurukul where ...</td>\n",
       "      <td>2.0</td>\n",
       "    </tr>\n",
       "  </tbody>\n",
       "</table>\n",
       "</div>"
      ],
      "text/plain": [
       "                                                 messages  labels\n",
       "200224  why these 456 crores paid neerav modi not reco...     0.0\n",
       "200225  dear rss terrorist payal gawar what about modi...     0.0\n",
       "200226  did you cover her interaction forum where she ...     1.0\n",
       "200227  there big project came into india modi dream p...     1.0\n",
       "200228  have you ever listen about like gurukul where ...     2.0"
      ]
     },
     "execution_count": 12,
     "metadata": {},
     "output_type": "execute_result"
    }
   ],
   "source": [
    "df.tail()"
   ]
  },
  {
   "cell_type": "markdown",
   "id": "dc0c24db",
   "metadata": {},
   "source": [
    "def text_process(mess):\n",
    "    nopunc = str(mess).lower()\n",
    "    nopunc=[word for word in nopunc if word not in string.punctuation]\n",
    "    nopunc=''.join(nopunc)\n",
    "    nopunc=[word for word in nopunc if word.lower() not in stopwords.words('english')]\n",
    "    return [stemmer.stem(word) for word in nopunc]"
   ]
  },
  {
   "cell_type": "markdown",
   "id": "a903f377",
   "metadata": {},
   "source": [
    "df1['messages']=df1['messages'].apply(text_process)"
   ]
  },
  {
   "cell_type": "code",
   "execution_count": 13,
   "id": "fa19013f",
   "metadata": {},
   "outputs": [
    {
     "data": {
      "text/plain": [
       "<AxesSubplot: ylabel='Frequency'>"
      ]
     },
     "execution_count": 13,
     "metadata": {},
     "output_type": "execute_result"
    },
    {
     "data": {
      "image/png": "[encoded data removed]",
      "text/plain": [
       "<Figure size 640x480 with 1 Axes>"
      ]
     },
     "metadata": {},
     "output_type": "display_data"
    }
   ],
   "source": [
    "df['labels'].plot(kind='hist')"
   ]
  },
  {
   "cell_type": "code",
   "execution_count": 14,
   "id": "8fef9662",
   "metadata": {},
   "outputs": [],
   "source": [
    "df['length']=df['messages'].str.len()"
   ]
  },
  {
   "cell_type": "code",
   "execution_count": 15,
   "id": "e3332ec4",
   "metadata": {},
   "outputs": [
    {
     "data": {
      "text/html": [
       "<div>\n",
       "<style scoped>\n",
       "    .dataframe tbody tr th:only-of-type {\n",
       "        vertical-align: middle;\n",
       "    }\n",
       "\n",
       "    .dataframe tbody tr th {\n",
       "        vertical-align: top;\n",
       "    }\n",
       "\n",
       "    .dataframe thead th {\n",
       "        text-align: right;\n",
       "    }\n",
       "</style>\n",
       "<table border=\"1\" class=\"dataframe\">\n",
       "  <thead>\n",
       "    <tr style=\"text-align: right;\">\n",
       "      <th></th>\n",
       "      <th>count</th>\n",
       "      <th>mean</th>\n",
       "      <th>std</th>\n",
       "      <th>min</th>\n",
       "      <th>25%</th>\n",
       "      <th>50%</th>\n",
       "      <th>75%</th>\n",
       "      <th>max</th>\n",
       "    </tr>\n",
       "  </thead>\n",
       "  <tbody>\n",
       "    <tr>\n",
       "      <th>labels</th>\n",
       "      <td>200222.0</td>\n",
       "      <td>1.221219</td>\n",
       "      <td>0.780813</td>\n",
       "      <td>0.0</td>\n",
       "      <td>1.0</td>\n",
       "      <td>1.0</td>\n",
       "      <td>2.0</td>\n",
       "      <td>2.0</td>\n",
       "    </tr>\n",
       "    <tr>\n",
       "      <th>length</th>\n",
       "      <td>200125.0</td>\n",
       "      <td>134.796737</td>\n",
       "      <td>167.639234</td>\n",
       "      <td>1.0</td>\n",
       "      <td>61.0</td>\n",
       "      <td>109.0</td>\n",
       "      <td>183.0</td>\n",
       "      <td>8665.0</td>\n",
       "    </tr>\n",
       "  </tbody>\n",
       "</table>\n",
       "</div>"
      ],
      "text/plain": [
       "           count        mean         std  min   25%    50%    75%     max\n",
       "labels  200222.0    1.221219    0.780813  0.0   1.0    1.0    2.0     2.0\n",
       "length  200125.0  134.796737  167.639234  1.0  61.0  109.0  183.0  8665.0"
      ]
     },
     "execution_count": 15,
     "metadata": {},
     "output_type": "execute_result"
    }
   ],
   "source": [
    "df.describe().transpose()"
   ]
  },
  {
   "cell_type": "code",
   "execution_count": 16,
   "id": "b642edf4",
   "metadata": {},
   "outputs": [
    {
     "name": "stdout",
     "output_type": "stream",
     "text": [
      "<class 'pandas.core.frame.DataFrame'>\n",
      "RangeIndex: 200229 entries, 0 to 200228\n",
      "Data columns (total 3 columns):\n",
      " #   Column    Non-Null Count   Dtype  \n",
      "---  ------    --------------   -----  \n",
      " 0   messages  200125 non-null  object \n",
      " 1   labels    200222 non-null  float64\n",
      " 2   length    200125 non-null  float64\n",
      "dtypes: float64(2), object(1)\n",
      "memory usage: 4.6+ MB\n"
     ]
    }
   ],
   "source": [
    "df.info()"
   ]
  },
  {
   "cell_type": "code",
   "execution_count": 17,
   "id": "fc82c5b3",
   "metadata": {},
   "outputs": [
    {
     "data": {
      "text/html": [
       "<div>\n",
       "<style scoped>\n",
       "    .dataframe tbody tr th:only-of-type {\n",
       "        vertical-align: middle;\n",
       "    }\n",
       "\n",
       "    .dataframe tbody tr th {\n",
       "        vertical-align: top;\n",
       "    }\n",
       "\n",
       "    .dataframe thead th {\n",
       "        text-align: right;\n",
       "    }\n",
       "</style>\n",
       "<table border=\"1\" class=\"dataframe\">\n",
       "  <thead>\n",
       "    <tr style=\"text-align: right;\">\n",
       "      <th></th>\n",
       "      <th>messages</th>\n",
       "      <th>labels</th>\n",
       "      <th>length</th>\n",
       "    </tr>\n",
       "  </thead>\n",
       "  <tbody>\n",
       "    <tr>\n",
       "      <th>0</th>\n",
       "      <td>family mormon have never tried explain them t...</td>\n",
       "      <td>2.0</td>\n",
       "      <td>261.0</td>\n",
       "    </tr>\n",
       "    <tr>\n",
       "      <th>1</th>\n",
       "      <td>buddhism has very much lot compatible with chr...</td>\n",
       "      <td>2.0</td>\n",
       "      <td>1269.0</td>\n",
       "    </tr>\n",
       "    <tr>\n",
       "      <th>2</th>\n",
       "      <td>seriously don say thing first all they won get...</td>\n",
       "      <td>0.0</td>\n",
       "      <td>460.0</td>\n",
       "    </tr>\n",
       "    <tr>\n",
       "      <th>3</th>\n",
       "      <td>what you have learned yours and only yours wha...</td>\n",
       "      <td>1.0</td>\n",
       "      <td>168.0</td>\n",
       "    </tr>\n",
       "    <tr>\n",
       "      <th>4</th>\n",
       "      <td>for your own benefit you may want read living ...</td>\n",
       "      <td>2.0</td>\n",
       "      <td>691.0</td>\n",
       "    </tr>\n",
       "  </tbody>\n",
       "</table>\n",
       "</div>"
      ],
      "text/plain": [
       "                                            messages  labels  length\n",
       "0   family mormon have never tried explain them t...     2.0   261.0\n",
       "1  buddhism has very much lot compatible with chr...     2.0  1269.0\n",
       "2  seriously don say thing first all they won get...     0.0   460.0\n",
       "3  what you have learned yours and only yours wha...     1.0   168.0\n",
       "4  for your own benefit you may want read living ...     2.0   691.0"
      ]
     },
     "execution_count": 17,
     "metadata": {},
     "output_type": "execute_result"
    }
   ],
   "source": [
    "df.head()"
   ]
  },
  {
   "cell_type": "code",
   "execution_count": 18,
   "id": "6147d533",
   "metadata": {
    "scrolled": true
   },
   "outputs": [
    {
     "data": {
      "text/plain": [
       "'brilliant point point breakdown one other argument making the rounds false argument okay maybe the strikes took place but should have been kept secret and deniable there good reason for dgmo make statements about covert actions except for bjp score political points there are massive number reasons make strike like this public exposes pakistan bluster just tough talk for all their talk being high alert for indian troop movement along the loc after the uri attack they didn even see coming massively boosts morale within the armed forces morale which has been getting steadily lower our bases kept getting hit while they were not allowed take charge the offensive the troops are also being vilified the media national and international while trying control spiral violence srinagar fueled pakistan propaganda machine makes the best use pakistan blunder overreaching and outmaneuvers them pakistan has its hands tied now after making bold statements about defending against indian adventurism aggression and denying that any terrorist camps even exist the region that they have the support their government pakistan has left itself publicly admissible out can either promise retaliation for strikes thereby confirming the existence such terror bases deny the strike and claim ignorance any bases the area releasing statements and evidence the strikes india makes pakistan look weak and incompetent defense while also making the point that pakistan harbors terrorists and uses them proxy war against india manner that exceeds just providing moral and diplomatic support they have claimed the past calls pakistan bluff threats start nuclear conflict their nuclear arsenal while still being very real and implicit threat longer their impenetrable shield striking within pok and then making public india has taken control the escalatory ladden you said earlier out the open for everyone see which leads the next point makes public the strategic shift indian policy dealing with cross border infiltration and terrorism this now means that india controls the play events and that infiltration will actively fought against taking the fight the terror outposts and leaving open the possibility even striking training camps situated further inland this means that india will make pakistan work and pay for every infiltration attempt literally not just pay terms revenge and bloodshed pakistan will need actually spend more time money resources manpower actual defense and surveillance near these bases their terror outposts will have constantly vigilant and more resources dedicated keeping eye out for incoming strikes the future this very different from the past where the outposts had nothing worry about till they crossed the border and their entire focus was offensive not defensive nature points out very little fencing the pakistani side because they never even felt the need defend themselves but that will all change now terrorists will not sleep peacefully their beds they will possibly make more mistakes and every new person recruited keep watch patrol their perimeter potential vulnerability too accidentally leaked info paid informant mole many these will make increasingly expensive and difficult maintain multiple such bases leading demoralized terrorists demoralized pakistani troops demoralized and disillusioned pakistani public pakistan currently damage control mode firing off more propaganda than artillery and trying pooh pooh the stories the strikes indian propaganda but inaccuracies their accounts will begin add and morale will definitely take hit everyone the pakistani side currently denial but that expected ultimately again makes the government look dishonest incompetent and erodes their imaginary moral high ground that they lay claim strengthens the indian public support for the government this definitely well deserved win for the bjp but more importantly makes the indian public lot more unified behind their central government regardless who was power when such action was taken there are certainly plenty who question the narrative and events but there definite surge public approval favor retaliation for uri and the strikes themselves regardless their position the who how where why covert overt bragging courting war etc this demonstrates among other things that the goi proactive that was receptive the outrage about uri across the nation that was willing take stand such attacks indian sovereignty demonstrates india ability operate within the bounds previous agreements and treaties while still taking decisive action defend itself and not being enslaved those treaties pakistan has always played victim when came any border related issue and deny any involvement previous incursions from their side meanwhile india hamstrung restrictive treaties preventing military retaliation for numerous actions carried out pakistan and its proxy fighters till now this deft navigation not altering the loc while striking terrorist camps falls well within the bounds the simla agreement and the charter surgical strikes across loc line with shimla agreement and charter 3026586 html exploring this avenue publicly means that india can now freely continue perform such strikes the future without invoking any backlash from most other nations and getting active support from several now let assume that the strikes took place but the government kept absolutely secret the outcome not making the strikes public knowledge would have been quite disadvantageous the whole india maintains deniability for aggressive action great but pakistan will constantly play the victim anyway portray cross border terrorism domestic rebellion foment unrest and paint india oppressive bully state committing atrocities kashmir very little advantage here while the strike killed handful terrorists and prevented few attacks the near future would fail adequately capitalize that victory other terror outfits and individual members such organisations may remain unaware and unafraid pakistani turf terrorists sleeping soundly before attempting border crossing isn good for indian defense maintaining state combat ready vigilance and tension impossible for more than few days for all but the most highly trained soldiers demoralizes indian troops they would feel abandoned the govt and the people left deal with bloodthirsty militants all themselves without any chance take action and preempt such attacks the indian soldiers continue the only ones who sleep fear with the fatigue constant vigilance making them weaker while the enemy gets stronger indian silence taken for weakness emboldens our enemies india seen soft target home and abroad india loses control the narrative the few who would aware the covert action the other side could later alter the narrative they have done several times the past and claim india committed atrocities and crimes pakistani territory and killed civilians blaming raw and other agencies and using justify further attacks several years the future the context and events this time would have faded from the public mind and india would the diplomatic back foot having either deny the action ever took place and look guilty forced justify such action and remind the public that was retaliation for uri not random unprovoked attack better claim upfront and connect the two events inextricably forever india retaliates for uri massacre today lot better than india denies committing war crimes pok years later when the conspiracy theorists would have had plenty time concoct alternate narrative pakistan would continue have the facade nuclear shield despite successful strike until challenged head publicly pakistan claims would continue hold weight pakistan retains control the escalatory ladder pakistan bluff not called and continues project the image competent military pakistan retains the facade harboring terrorists its soil what terrorists public acknowledgement shift the policy strategic restraint indian public loses faith the government not knowing about any retaliation would mean that the indian public would just have another item list complain about how the government all talk action critics the government perceived restraint would continue make the government look weak and ineffective bjp would crucified the public eye for not taking stronger measures because the public wouldn know about the strike the voice the people would appear have been ignored future governments would unlikely continue the shift strategy reluctance take control the offensive would persist continued veil secrecy would mean that their efforts would unnoticed while the costs and risks such operations would for little political benefit '"
      ]
     },
     "execution_count": 18,
     "metadata": {},
     "output_type": "execute_result"
    }
   ],
   "source": [
    "df[df['length']==8665]['messages'].iloc[0]"
   ]
  },
  {
   "cell_type": "code",
   "execution_count": 19,
   "id": "8786c529",
   "metadata": {},
   "outputs": [
    {
     "data": {
      "text/plain": [
       "messages    104\n",
       "labels        7\n",
       "length      104\n",
       "dtype: int64"
      ]
     },
     "execution_count": 19,
     "metadata": {},
     "output_type": "execute_result"
    }
   ],
   "source": [
    "df.isnull().sum()"
   ]
  },
  {
   "cell_type": "code",
   "execution_count": 20,
   "id": "3af1bb23",
   "metadata": {},
   "outputs": [],
   "source": [
    "df=df.dropna()"
   ]
  },
  {
   "cell_type": "code",
   "execution_count": 21,
   "id": "7302a019",
   "metadata": {},
   "outputs": [
    {
     "data": {
      "text/plain": [
       "0          family mormon have never tried explain them t...\n",
       "1         buddhism has very much lot compatible with chr...\n",
       "2         seriously don say thing first all they won get...\n",
       "3         what you have learned yours and only yours wha...\n",
       "4         for your own benefit you may want read living ...\n",
       "                                ...                        \n",
       "200224    why these 456 crores paid neerav modi not reco...\n",
       "200225    dear rss terrorist payal gawar what about modi...\n",
       "200226    did you cover her interaction forum where she ...\n",
       "200227    there big project came into india modi dream p...\n",
       "200228    have you ever listen about like gurukul where ...\n",
       "Name: messages, Length: 200118, dtype: object"
      ]
     },
     "execution_count": 21,
     "metadata": {},
     "output_type": "execute_result"
    }
   ],
   "source": [
    "df['messages']"
   ]
  },
  {
   "cell_type": "code",
   "execution_count": 22,
   "id": "3aab155f",
   "metadata": {},
   "outputs": [
    {
     "data": {
      "text/plain": [
       "37249"
      ]
     },
     "execution_count": 22,
     "metadata": {},
     "output_type": "execute_result"
    }
   ],
   "source": [
    "len(df1['messages'])"
   ]
  },
  {
   "cell_type": "code",
   "execution_count": 23,
   "id": "08620684",
   "metadata": {},
   "outputs": [],
   "source": [
    "import re\n",
    "def replace_url(text):\n",
    "    return re.sub('https?:\\/\\/\\S*|www\\.\\S+','URL',text)\n",
    "def remove_html(text):\n",
    "    return re.sub('<.*?>','',text)\n",
    "def replace_mentions(text):\n",
    "    return re.sub('@\\S*','user',text)\n",
    "def replace_num(text):\n",
    "    return re.sub('^[+-]*?\\d{1,3}[- ]*?\\d{1,10}|\\d{10}','NUMBER',text)\n",
    "def replace_heart(text):\n",
    "    return re.sub('<3','HEART', text)\n",
    "def remove_alphanumeric(text):\n",
    "    return re.sub('\\w*\\d+\\w*','',text)\n",
    "def remove_stopwords(text):\n",
    "    text = ' '.join([word for word in text.split() if word not in stopwords.words(\"english\")])\n",
    "    return text\n",
    "def remove_punctuations(text):\n",
    "    text=''.join([word for word in text if word not in string.punctuation])\n",
    "    return text\n",
    "def stemming(text):\n",
    "    stemmer=PorterStemmer()\n",
    "    text=' '.join([stemmer.stem(word) for word in text.split()])\n",
    "    return text\n",
    "def lemmatization(text):\n",
    "    lm= WordNetLemmatizer()\n",
    "    text = ' '.join([lm.lemmatize(word, pos='v') for word in text.split()])\n",
    "    return text"
   ]
  },
  {
   "cell_type": "code",
   "execution_count": 24,
   "id": "bc02c533",
   "metadata": {},
   "outputs": [],
   "source": [
    "def clean_text(text):\n",
    "    text=str(text).lower()\n",
    "    text = replace_url(text)\n",
    "    text = remove_html(text)\n",
    "    text = replace_mentions(text)\n",
    "    text = replace_num(text)\n",
    "    text = replace_heart(text)\n",
    "    text = remove_alphanumeric(text)\n",
    "    text = remove_stopwords(text)\n",
    "    text=remove_punctuations(text)\n",
    "    #text = stemming(text)\n",
    "    text=lemmatization(text)\n",
    "    return text"
   ]
  },
  {
   "cell_type": "code",
   "execution_count": 25,
   "id": "3cb06d9b",
   "metadata": {},
   "outputs": [],
   "source": [
    "df['messages1']=df['messages'].apply(clean_text)"
   ]
  },
  {
   "cell_type": "code",
   "execution_count": 26,
   "id": "ebfc3551",
   "metadata": {},
   "outputs": [
    {
     "data": {
      "text/html": [
       "<div>\n",
       "<style scoped>\n",
       "    .dataframe tbody tr th:only-of-type {\n",
       "        vertical-align: middle;\n",
       "    }\n",
       "\n",
       "    .dataframe tbody tr th {\n",
       "        vertical-align: top;\n",
       "    }\n",
       "\n",
       "    .dataframe thead th {\n",
       "        text-align: right;\n",
       "    }\n",
       "</style>\n",
       "<table border=\"1\" class=\"dataframe\">\n",
       "  <thead>\n",
       "    <tr style=\"text-align: right;\">\n",
       "      <th></th>\n",
       "      <th>messages</th>\n",
       "      <th>labels</th>\n",
       "      <th>length</th>\n",
       "      <th>messages1</th>\n",
       "    </tr>\n",
       "  </thead>\n",
       "  <tbody>\n",
       "    <tr>\n",
       "      <th>0</th>\n",
       "      <td>family mormon have never tried explain them t...</td>\n",
       "      <td>2.0</td>\n",
       "      <td>261.0</td>\n",
       "      <td>family mormon never try explain still stare pu...</td>\n",
       "    </tr>\n",
       "    <tr>\n",
       "      <th>1</th>\n",
       "      <td>buddhism has very much lot compatible with chr...</td>\n",
       "      <td>2.0</td>\n",
       "      <td>1269.0</td>\n",
       "      <td>buddhism much lot compatible christianity espe...</td>\n",
       "    </tr>\n",
       "    <tr>\n",
       "      <th>2</th>\n",
       "      <td>seriously don say thing first all they won get...</td>\n",
       "      <td>0.0</td>\n",
       "      <td>460.0</td>\n",
       "      <td>seriously say thing first get complex explain ...</td>\n",
       "    </tr>\n",
       "    <tr>\n",
       "      <th>3</th>\n",
       "      <td>what you have learned yours and only yours wha...</td>\n",
       "      <td>1.0</td>\n",
       "      <td>168.0</td>\n",
       "      <td>learn want teach different focus goal wrap pap...</td>\n",
       "    </tr>\n",
       "    <tr>\n",
       "      <th>4</th>\n",
       "      <td>for your own benefit you may want read living ...</td>\n",
       "      <td>2.0</td>\n",
       "      <td>691.0</td>\n",
       "      <td>benefit may want read live buddha live christ ...</td>\n",
       "    </tr>\n",
       "    <tr>\n",
       "      <th>...</th>\n",
       "      <td>...</td>\n",
       "      <td>...</td>\n",
       "      <td>...</td>\n",
       "      <td>...</td>\n",
       "    </tr>\n",
       "    <tr>\n",
       "      <th>200224</th>\n",
       "      <td>why these 456 crores paid neerav modi not reco...</td>\n",
       "      <td>0.0</td>\n",
       "      <td>108.0</td>\n",
       "      <td>crores pay neerav modi recover congress leader...</td>\n",
       "    </tr>\n",
       "    <tr>\n",
       "      <th>200225</th>\n",
       "      <td>dear rss terrorist payal gawar what about modi...</td>\n",
       "      <td>0.0</td>\n",
       "      <td>248.0</td>\n",
       "      <td>dear rss terrorist payal gawar modi kill plus ...</td>\n",
       "    </tr>\n",
       "    <tr>\n",
       "      <th>200226</th>\n",
       "      <td>did you cover her interaction forum where she ...</td>\n",
       "      <td>1.0</td>\n",
       "      <td>51.0</td>\n",
       "      <td>cover interaction forum leave</td>\n",
       "    </tr>\n",
       "    <tr>\n",
       "      <th>200227</th>\n",
       "      <td>there big project came into india modi dream p...</td>\n",
       "      <td>1.0</td>\n",
       "      <td>77.0</td>\n",
       "      <td>big project come india modi dream project happ...</td>\n",
       "    </tr>\n",
       "    <tr>\n",
       "      <th>200228</th>\n",
       "      <td>have you ever listen about like gurukul where ...</td>\n",
       "      <td>2.0</td>\n",
       "      <td>216.0</td>\n",
       "      <td>ever listen like gurukul discipline maintain e...</td>\n",
       "    </tr>\n",
       "  </tbody>\n",
       "</table>\n",
       "<p>200118 rows × 4 columns</p>\n",
       "</div>"
      ],
      "text/plain": [
       "                                                 messages  labels  length  \\\n",
       "0        family mormon have never tried explain them t...     2.0   261.0   \n",
       "1       buddhism has very much lot compatible with chr...     2.0  1269.0   \n",
       "2       seriously don say thing first all they won get...     0.0   460.0   \n",
       "3       what you have learned yours and only yours wha...     1.0   168.0   \n",
       "4       for your own benefit you may want read living ...     2.0   691.0   \n",
       "...                                                   ...     ...     ...   \n",
       "200224  why these 456 crores paid neerav modi not reco...     0.0   108.0   \n",
       "200225  dear rss terrorist payal gawar what about modi...     0.0   248.0   \n",
       "200226  did you cover her interaction forum where she ...     1.0    51.0   \n",
       "200227  there big project came into india modi dream p...     1.0    77.0   \n",
       "200228  have you ever listen about like gurukul where ...     2.0   216.0   \n",
       "\n",
       "                                                messages1  \n",
       "0       family mormon never try explain still stare pu...  \n",
       "1       buddhism much lot compatible christianity espe...  \n",
       "2       seriously say thing first get complex explain ...  \n",
       "3       learn want teach different focus goal wrap pap...  \n",
       "4       benefit may want read live buddha live christ ...  \n",
       "...                                                   ...  \n",
       "200224  crores pay neerav modi recover congress leader...  \n",
       "200225  dear rss terrorist payal gawar modi kill plus ...  \n",
       "200226                      cover interaction forum leave  \n",
       "200227  big project come india modi dream project happ...  \n",
       "200228  ever listen like gurukul discipline maintain e...  \n",
       "\n",
       "[200118 rows x 4 columns]"
      ]
     },
     "execution_count": 26,
     "metadata": {},
     "output_type": "execute_result"
    }
   ],
   "source": [
    "df"
   ]
  },
  {
   "cell_type": "code",
   "execution_count": 27,
   "id": "c26f0bb2",
   "metadata": {},
   "outputs": [
    {
     "name": "stdout",
     "output_type": "stream",
     "text": [
      "0         2.0\n",
      "1         2.0\n",
      "2         0.0\n",
      "3         1.0\n",
      "4         2.0\n",
      "         ... \n",
      "200224    0.0\n",
      "200225    0.0\n",
      "200226    1.0\n",
      "200227    1.0\n",
      "200228    2.0\n",
      "Name: labels, Length: 200118, dtype: float64\n"
     ]
    }
   ],
   "source": [
    "X=df['messages1']\n",
    "y=df['labels']\n",
    "print(y)\n",
    "X_train,X_test,y_train,y_test=train_test_split(X,y,test_size=0.33)"
   ]
  },
  {
   "cell_type": "code",
   "execution_count": 28,
   "id": "3111c5e5",
   "metadata": {},
   "outputs": [
    {
     "data": {
      "text/plain": [
       "(134079,)"
      ]
     },
     "execution_count": 28,
     "metadata": {},
     "output_type": "execute_result"
    }
   ],
   "source": [
    "X_train.shape"
   ]
  },
  {
   "cell_type": "code",
   "execution_count": 29,
   "id": "f8cda96a",
   "metadata": {},
   "outputs": [],
   "source": [
    "Max_vocab_size=50000\n",
    "tokenizer=Tokenizer(num_words=Max_vocab_size)\n",
    "tokenizer.fit_on_texts(X_train)\n",
    "sequence_Xtrain=tokenizer.texts_to_sequences(X_train)\n",
    "sequence_Xtest=tokenizer.texts_to_sequences(X_test)"
   ]
  },
  {
   "cell_type": "code",
   "execution_count": 30,
   "id": "14561645",
   "metadata": {},
   "outputs": [],
   "source": [
    "V=len(tokenizer.word_index)"
   ]
  },
  {
   "cell_type": "code",
   "execution_count": 32,
   "id": "44b4405d",
   "metadata": {},
   "outputs": [],
   "source": [
    "data_train=pad_sequences(sequence_Xtrain)"
   ]
  },
  {
   "cell_type": "code",
   "execution_count": 33,
   "id": "177bd187",
   "metadata": {},
   "outputs": [
    {
     "name": "stdout",
     "output_type": "stream",
     "text": [
      "864\n"
     ]
    }
   ],
   "source": [
    "T=data_train.shape[1]\n",
    "print(T)"
   ]
  },
  {
   "cell_type": "code",
   "execution_count": 34,
   "id": "691b9367",
   "metadata": {},
   "outputs": [],
   "source": [
    "data_test=pad_sequences(sequence_Xtest,maxlen=T)"
   ]
  },
  {
   "cell_type": "code",
   "execution_count": 35,
   "id": "e9cede46",
   "metadata": {},
   "outputs": [
    {
     "data": {
      "text/plain": [
       "(134079, 864)"
      ]
     },
     "execution_count": 35,
     "metadata": {},
     "output_type": "execute_result"
    }
   ],
   "source": [
    "data_train.shape"
   ]
  },
  {
   "cell_type": "code",
   "execution_count": 36,
   "id": "d95427d5",
   "metadata": {},
   "outputs": [
    {
     "data": {
      "text/plain": [
       "(134079,)"
      ]
     },
     "execution_count": 36,
     "metadata": {},
     "output_type": "execute_result"
    }
   ],
   "source": [
    "y_train.shape"
   ]
  },
  {
   "cell_type": "code",
   "execution_count": 37,
   "id": "65647138",
   "metadata": {},
   "outputs": [
    {
     "data": {
      "text/plain": [
       "(66039, 864)"
      ]
     },
     "execution_count": 37,
     "metadata": {},
     "output_type": "execute_result"
    }
   ],
   "source": [
    "data_test.shape"
   ]
  },
  {
   "cell_type": "code",
   "execution_count": 38,
   "id": "eabf5bfb",
   "metadata": {},
   "outputs": [
    {
     "data": {
      "text/plain": [
       "(66039,)"
      ]
     },
     "execution_count": 38,
     "metadata": {},
     "output_type": "execute_result"
    }
   ],
   "source": [
    "y_test.shape"
   ]
  },
  {
   "cell_type": "code",
   "execution_count": 39,
   "id": "3c6bc610",
   "metadata": {},
   "outputs": [
    {
     "data": {
      "text/plain": [
       "(134079,)"
      ]
     },
     "execution_count": 39,
     "metadata": {},
     "output_type": "execute_result"
    }
   ],
   "source": [
    "y_train.shape"
   ]
  },
  {
   "cell_type": "code",
   "execution_count": 40,
   "id": "a6998de3",
   "metadata": {},
   "outputs": [
    {
     "data": {
      "text/plain": [
       "array([1., 2., 0.])"
      ]
     },
     "execution_count": 40,
     "metadata": {},
     "output_type": "execute_result"
    }
   ],
   "source": [
    "y_train.unique()"
   ]
  },
  {
   "cell_type": "code",
   "execution_count": 41,
   "id": "07df9824",
   "metadata": {},
   "outputs": [
    {
     "data": {
      "text/plain": [
       "(200118,)"
      ]
     },
     "execution_count": 41,
     "metadata": {},
     "output_type": "execute_result"
    }
   ],
   "source": [
    "y.shape"
   ]
  },
  {
   "cell_type": "code",
   "execution_count": 42,
   "id": "87b551bf",
   "metadata": {},
   "outputs": [
    {
     "name": "stdout",
     "output_type": "stream",
     "text": [
      "Epoch 1/10\n",
      "1048/1048 [==============================] - 106s 95ms/step - loss: 0.5496 - accuracy: 0.7818 - val_loss: 0.3722 - val_accuracy: 0.8754\n",
      "Epoch 2/10\n",
      "1048/1048 [==============================] - 98s 94ms/step - loss: 0.3333 - accuracy: 0.8850 - val_loss: 0.3500 - val_accuracy: 0.8824\n",
      "Epoch 3/10\n",
      "1048/1048 [==============================] - 99s 95ms/step - loss: 0.2928 - accuracy: 0.9001 - val_loss: 0.3575 - val_accuracy: 0.8798\n",
      "Epoch 4/10\n",
      "1048/1048 [==============================] - 99s 95ms/step - loss: 0.2638 - accuracy: 0.9108 - val_loss: 0.3698 - val_accuracy: 0.8766\n",
      "Epoch 5/10\n",
      "1048/1048 [==============================] - 99s 95ms/step - loss: 0.2406 - accuracy: 0.9194 - val_loss: 0.3902 - val_accuracy: 0.8703\n",
      "Epoch 6/10\n",
      "1048/1048 [==============================] - 98s 93ms/step - loss: 0.2223 - accuracy: 0.9251 - val_loss: 0.4089 - val_accuracy: 0.8677\n",
      "Epoch 7/10\n",
      "1048/1048 [==============================] - 97s 92ms/step - loss: 0.2039 - accuracy: 0.9317 - val_loss: 0.4202 - val_accuracy: 0.8637\n",
      "Epoch 8/10\n",
      "1048/1048 [==============================] - 98s 94ms/step - loss: 0.1859 - accuracy: 0.9377 - val_loss: 0.4398 - val_accuracy: 0.8643\n",
      "Epoch 9/10\n",
      "1048/1048 [==============================] - 99s 95ms/step - loss: 0.1703 - accuracy: 0.9422 - val_loss: 0.4667 - val_accuracy: 0.8610\n",
      "Epoch 10/10\n",
      "1048/1048 [==============================] - 100s 96ms/step - loss: 0.1580 - accuracy: 0.9462 - val_loss: 0.4911 - val_accuracy: 0.8576\n"
     ]
    }
   ],
   "source": [
    "D=20\n",
    "i=Input(shape=(T,))\n",
    "x=Embedding(V+1,D)(i)\n",
    "x=LSTM(128,dropout=(0.2))(x)\n",
    "x=Dense(3,activation='softmax')(x)\n",
    "model=Model(i,x)\n",
    "model.compile(optimizer='adam',loss='sparse_categorical_crossentropy',metrics=['accuracy'])\n",
    "history=model.fit(data_train,y_train,batch_size=128,validation_data=(data_test,y_test),epochs=10)"
   ]
  },
  {
   "cell_type": "code",
   "execution_count": 43,
   "id": "66d080f5",
   "metadata": {},
   "outputs": [
    {
     "name": "stdout",
     "output_type": "stream",
     "text": [
      "2064/2064 [==============================] - 62s 30ms/step - loss: 0.4911 - accuracy: 0.8576\n"
     ]
    },
    {
     "data": {
      "text/plain": [
       "[0.4910750091075897, 0.8575841784477234]"
      ]
     },
     "execution_count": 43,
     "metadata": {},
     "output_type": "execute_result"
    }
   ],
   "source": [
    "model.evaluate(data_test,y_test)"
   ]
  },
  {
   "cell_type": "code",
   "execution_count": 44,
   "id": "d528fee3",
   "metadata": {},
   "outputs": [
    {
     "data": {
      "text/plain": [
       "<matplotlib.legend.Legend at 0x194d4d45db0>"
      ]
     },
     "execution_count": 44,
     "metadata": {},
     "output_type": "execute_result"
    },
    {
     "data": {
      "image/png": "[encoded data removed]",
      "text/plain": [
       "<Figure size 640x480 with 1 Axes>"
      ]
     },
     "metadata": {},
     "output_type": "display_data"
    }
   ],
   "source": [
    "plt.plot(history.history['val_accuracy'],label='val_acc')\n",
    "plt.plot(history.history['accuracy'],label='accuracy')\n",
    "plt.legend()"
   ]
  },
  {
   "cell_type": "code",
   "execution_count": 45,
   "id": "67c5d9c9",
   "metadata": {},
   "outputs": [
    {
     "data": {
      "text/plain": [
       "<AxesSubplot: >"
      ]
     },
     "execution_count": 45,
     "metadata": {},
     "output_type": "execute_result"
    },
    {
     "data": {
      "image/png": "[encoded data removed]",
      "text/plain": [
       "<Figure size 640x480 with 1 Axes>"
      ]
     },
     "metadata": {},
     "output_type": "display_data"
    }
   ],
   "source": [
    "losses=pd.DataFrame(history.history)\n",
    "losses.plot()"
   ]
  },
  {
   "cell_type": "code",
   "execution_count": 46,
   "id": "e69a6f24",
   "metadata": {},
   "outputs": [
    {
     "name": "stdout",
     "output_type": "stream",
     "text": [
      "2064/2064 [==============================] - 64s 31ms/step\n"
     ]
    }
   ],
   "source": [
    "predictions=model.predict(data_test).argmax(axis=1)"
   ]
  },
  {
   "cell_type": "code",
   "execution_count": 47,
   "id": "95e20143",
   "metadata": {},
   "outputs": [
    {
     "name": "stdout",
     "output_type": "stream",
     "text": [
      "              precision    recall  f1-score   support\n",
      "\n",
      "         0.0       0.78      0.80      0.79     14502\n",
      "         1.0       0.88      0.88      0.88     22644\n",
      "         2.0       0.88      0.87      0.87     28893\n",
      "\n",
      "    accuracy                           0.86     66039\n",
      "   macro avg       0.85      0.85      0.85     66039\n",
      "weighted avg       0.86      0.86      0.86     66039\n",
      "\n"
     ]
    }
   ],
   "source": [
    "print(classification_report(y_test,predictions))"
   ]
  },
  {
   "cell_type": "code",
   "execution_count": 48,
   "id": "acad94da",
   "metadata": {},
   "outputs": [
    {
     "data": {
      "text/plain": [
       "Text(50.722222222222214, 0.5, 'true_labels')"
      ]
     },
     "execution_count": 48,
     "metadata": {},
     "output_type": "execute_result"
    },
    {
     "data": {
      "image/png": "[encoded data removed]",
      "text/plain": [
       "<Figure size 640x480 with 2 Axes>"
      ]
     },
     "metadata": {},
     "output_type": "display_data"
    }
   ],
   "source": [
    "import tensorflow as tf\n",
    "cm=tf.math.confusion_matrix(y_test,predictions)\n",
    "sns.heatmap(cm,fmt='d',annot=True)\n",
    "plt.xlabel('predictions')\n",
    "plt.ylabel('true_labels')"
   ]
  },
  {
   "cell_type": "code",
   "execution_count": 49,
   "id": "1b85dc92",
   "metadata": {},
   "outputs": [],
   "source": [
    "model.save('model1.h5')"
   ]
  }
 ],
 "metadata": {
  "kernelspec": {
   "display_name": "Python 3 (ipykernel)",
   "language": "python",
   "name": "python3"
  },
  "language_info": {
   "codemirror_mode": {
    "name": "ipython",
    "version": 3
   },
   "file_extension": ".py",
   "mimetype": "text/x-python",
   "name": "python",
   "nbconvert_exporter": "python",
   "pygments_lexer": "ipython3",
   "version": "3.10.13"
  }
 },
 "nbformat": 4,
 "nbformat_minor": 5
}
